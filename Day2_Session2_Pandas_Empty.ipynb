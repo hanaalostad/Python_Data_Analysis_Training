{
 "cells": [
  {
   "cell_type": "markdown",
   "metadata": {},
   "source": [
    "## Pandas Data Manipulation\n",
    "Install pandas if needed\n",
    "pip install pandas "
   ]
  },
  {
   "cell_type": "code",
   "execution_count": null,
   "metadata": {},
   "outputs": [],
   "source": [
    "import pandas as pd"
   ]
  },
  {
   "cell_type": "code",
   "execution_count": null,
   "metadata": {},
   "outputs": [],
   "source": [
    "# Load the dataset\n",
    "df = pd.read_csv(\"sales_data.csv\")\n",
    "# fix missing data based on formula \n",
    "total = df[\"Quantity\"] * df[\"Price\"]\n",
    "df[\"Total\"]=df[\"Total\"].fillna(total)\n",
    "# Fill missing Price based on formula \n",
    "Calc_price = df[\"Total\"]/df[\"Quantity\"]\n",
    "df[\"Price\"]=df[\"Price\"].fillna(Calc_price)\n",
    "# Drop rows where \"Customer\" is missing\n",
    "df.dropna(subset=[\"Customer\"], inplace=True)\n",
    "# fill date bsed on pattern\n",
    "df[\"Date\"] = pd.to_datetime(df[\"Date\"])\n",
    "df[\"Date\"] = df[\"Date\"].interpolate()\n",
    "print(df)"
   ]
  },
  {
   "cell_type": "markdown",
   "metadata": {},
   "source": [
    "### Filtering, Merging, and Reshaping Data\n",
    "\n",
    "**Filter Data (Find Sales Above $500)**"
   ]
  },
  {
   "cell_type": "code",
   "execution_count": null,
   "metadata": {},
   "outputs": [],
   "source": [
    "# Find orders where Total > 500\n",
    "\n"
   ]
  },
  {
   "cell_type": "markdown",
   "metadata": {},
   "source": [
    "### Activity \n",
    "\n",
    "Find All Laptop orders \n"
   ]
  },
  {
   "cell_type": "code",
   "execution_count": null,
   "metadata": {},
   "outputs": [],
   "source": []
  },
  {
   "cell_type": "markdown",
   "metadata": {},
   "source": [
    "**Merge DataFrames**"
   ]
  },
  {
   "cell_type": "code",
   "execution_count": null,
   "metadata": {},
   "outputs": [],
   "source": [
    "# Create another DataFrame with customer details\n",
    "customer_info = pd.DataFrame({\n",
    "    \"Customer\": [\"John Doe\", \"Alice Smith\", \"Bob Johnson\", \"Charlie Lee\", \"Eve Davis\"],\n",
    "    \"Loyalty Points\": [100, 200, 150, 250, 300]\n",
    "})\n",
    "print(customer_info)"
   ]
  },
  {
   "cell_type": "code",
   "execution_count": null,
   "metadata": {},
   "outputs": [],
   "source": [
    "# Merge datasets on \"Customer\" column\n"
   ]
  },
  {
   "cell_type": "markdown",
   "metadata": {},
   "source": [
    "**Reshape Data (Pivot Table of Total Sales Per Product)**"
   ]
  },
  {
   "cell_type": "code",
   "execution_count": null,
   "metadata": {},
   "outputs": [],
   "source": []
  },
  {
   "cell_type": "markdown",
   "metadata": {},
   "source": [
    "Converting categories into numbers."
   ]
  },
  {
   "cell_type": "code",
   "execution_count": null,
   "metadata": {},
   "outputs": [],
   "source": [
    "Cities = pd.DataFrame({\n",
    "    \"City\": [\"New York\", \"Chicago\", \"Los Angeles\", \"New York\", \"Chicago\"]\n",
    "})\n",
    "\n",
    "# Convert to numerical codes\n",
    "Cities[\"City_Code\"] = Cities[\"City\"].astype(\"category\").cat.codes\n",
    "\n",
    "print(Cities)"
   ]
  },
  {
   "cell_type": "markdown",
   "metadata": {},
   "source": [
    "### Statistical Analysis \n",
    "**Calculate Mean, Median & Standard Deviation**"
   ]
  },
  {
   "cell_type": "code",
   "execution_count": null,
   "metadata": {},
   "outputs": [],
   "source": [
    "# Compute statistics\n",
    "mean_price = \n",
    "median_price = \n",
    "std_price = \n",
    "\n",
    "print(f\"Mean Price: {mean_price}\")\n",
    "print(f\"Median Price: {median_price}\")\n",
    "print(f\"Standard Deviation of Price: {std_price}\")"
   ]
  },
  {
   "cell_type": "markdown",
   "metadata": {},
   "source": [
    "**Pandas' groupby() allows you to group data and apply aggregations like sum(), mean(), count(), etc.**"
   ]
  },
  {
   "cell_type": "code",
   "execution_count": null,
   "metadata": {},
   "outputs": [],
   "source": [
    "# Group by Product and sum Total Sales\n",
    "sales_per_product = \n",
    "\n",
    "print(sales_per_product)"
   ]
  },
  {
   "cell_type": "markdown",
   "metadata": {},
   "source": [
    "**Grouping & Applying Custom Functions**\n",
    "\n",
    "Categorize sales as High (≥2000) or Mid (<=1000 and >=800) or low (<800).\n"
   ]
  },
  {
   "cell_type": "code",
   "execution_count": null,
   "metadata": {},
   "outputs": [],
   "source": [
    "# Define a function to classify sales\n",
    "def sales_category(Total):\n",
    "    if Total >= 2000:\n",
    "        category = \"High\"\n",
    "    elif Total<=1000 and Total>=800:\n",
    "        category = \"Mid\" \n",
    "    else:\n",
    "        category =  \"Low\"\n",
    "    return category \n",
    "\n",
    "# Apply function to grouped sales\n",
    "sales_category_df = \n",
    "\n",
    "print(sales_category_df)\n"
   ]
  },
  {
   "cell_type": "markdown",
   "metadata": {},
   "source": [
    "### Activity \n",
    "\n",
    "**Find:**\n",
    "\n",
    "1- The average Loyalty Points of Customer.\n",
    "\n",
    "2- The maximum Loyalty Points of Customer. \n",
    "\n",
    "3- The minimum Loyalty Points of Customer.\n",
    "\n",
    "4- Categorize customer based on Loyalty Points, customer is considered loyal (Loyalty Points>=300) or not loyal (Loyalty Points<300)\n"
   ]
  },
  {
   "cell_type": "code",
   "execution_count": null,
   "metadata": {},
   "outputs": [],
   "source": []
  }
 ],
 "metadata": {
  "kernelspec": {
   "display_name": "Python 3",
   "language": "python",
   "name": "python3"
  },
  "language_info": {
   "codemirror_mode": {
    "name": "ipython",
    "version": 3
   },
   "file_extension": ".py",
   "mimetype": "text/x-python",
   "name": "python",
   "nbconvert_exporter": "python",
   "pygments_lexer": "ipython3",
   "version": "3.10.7"
  }
 },
 "nbformat": 4,
 "nbformat_minor": 2
}
