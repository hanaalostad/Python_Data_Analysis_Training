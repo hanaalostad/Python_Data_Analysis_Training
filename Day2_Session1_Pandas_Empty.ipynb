{
 "cells": [
  {
   "cell_type": "markdown",
   "metadata": {},
   "source": [
    "## Getting Started with Pandas\n",
    "### Install Pandas (If Needed)"
   ]
  },
  {
   "cell_type": "code",
   "execution_count": 159,
   "metadata": {},
   "outputs": [
    {
     "name": "stdout",
     "output_type": "stream",
     "text": [
      "Requirement already satisfied: pandas in c:\\users\\halos\\appdata\\local\\programs\\python\\python310\\lib\\site-packages (2.2.3)\n",
      "Requirement already satisfied: numpy>=1.22.4 in c:\\users\\halos\\appdata\\local\\programs\\python\\python310\\lib\\site-packages (from pandas) (1.26.4)\n",
      "Requirement already satisfied: python-dateutil>=2.8.2 in c:\\users\\halos\\appdata\\local\\programs\\python\\python310\\lib\\site-packages (from pandas) (2.8.2)\n",
      "Requirement already satisfied: pytz>=2020.1 in c:\\users\\halos\\appdata\\local\\programs\\python\\python310\\lib\\site-packages (from pandas) (2022.2.1)\n",
      "Requirement already satisfied: tzdata>=2022.7 in c:\\users\\halos\\appdata\\local\\programs\\python\\python310\\lib\\site-packages (from pandas) (2023.3)\n",
      "Requirement already satisfied: six>=1.5 in c:\\users\\halos\\appdata\\local\\programs\\python\\python310\\lib\\site-packages (from python-dateutil>=2.8.2->pandas) (1.15.0)\n",
      "Note: you may need to restart the kernel to use updated packages.\n"
     ]
    }
   ],
   "source": [
    "pip install pandas"
   ]
  },
  {
   "cell_type": "markdown",
   "metadata": {},
   "source": [
    "### Import Pandas"
   ]
  },
  {
   "cell_type": "code",
   "execution_count": 160,
   "metadata": {},
   "outputs": [],
   "source": [
    "import pandas as pd"
   ]
  },
  {
   "cell_type": "markdown",
   "metadata": {},
   "source": [
    "## Creating a DataFrame\n",
    "You can create data frames from lists, dictionry, structured data files like .csv , Excel sheets. "
   ]
  },
  {
   "cell_type": "code",
   "execution_count": 161,
   "metadata": {},
   "outputs": [
    {
     "name": "stdout",
     "output_type": "stream",
     "text": [
      "      Name  Age         City\n",
      "0    Alice   25     New York\n",
      "1      Bob   30  Los Angeles\n",
      "2  Charlie   35      Chicago\n",
      "3    David   40      Houston\n"
     ]
    }
   ],
   "source": [
    "# Create a DataFrame\n",
    "data = {\n",
    "    \"Name\": [\"Alice\", \"Bob\", \"Charlie\", \"David\"],\n",
    "    \"Age\": [25, 30, 35, 40],\n",
    "    \"City\": [\"New York\", \"Los Angeles\", \"Chicago\", \"Houston\"]\n",
    "}\n",
    "\n",
    "df = pd.DataFrame(data)\n",
    "\n",
    "# Display DataFrame\n",
    "print(df)\n"
   ]
  },
  {
   "cell_type": "code",
   "execution_count": 162,
   "metadata": {},
   "outputs": [
    {
     "name": "stdout",
     "output_type": "stream",
     "text": [
      "    Name  Age         City\n",
      "0  Alice   25     New York\n",
      "1    Bob   30  Los Angeles\n"
     ]
    }
   ],
   "source": [
    "# print only the top two rows\n",
    "print(df.head(2))"
   ]
  },
  {
   "cell_type": "code",
   "execution_count": 163,
   "metadata": {},
   "outputs": [
    {
     "name": "stdout",
     "output_type": "stream",
     "text": [
      "      Name  Age     City\n",
      "2  Charlie   35  Chicago\n",
      "3    David   40  Houston\n"
     ]
    }
   ],
   "source": [
    "# print only the last two rows\n",
    "print(df.tail(2))"
   ]
  },
  {
   "cell_type": "markdown",
   "metadata": {},
   "source": [
    "## Reading from a CSV File"
   ]
  },
  {
   "cell_type": "code",
   "execution_count": 164,
   "metadata": {},
   "outputs": [
    {
     "name": "stdout",
     "output_type": "stream",
     "text": [
      "   EmployeeID     Name  Age Department  Salary         City\n",
      "0         101    Alice   25         HR   50000     New York\n",
      "1         102      Bob   30         IT   60000      Chicago\n",
      "2         103  Charlie   35    Finance   70000      Houston\n",
      "3         104    David   40  Marketing   80000        Miami\n",
      "4         105      Eve   28         IT   62000  Los Angeles\n"
     ]
    }
   ],
   "source": [
    "import pandas as pd\n",
    "\n",
    "# Read CSV file\n",
    "Employees = pd.read_csv(\"Employees.csv\")\n",
    "\n",
    "# Display first 5 rows\n",
    "print(Employees.head())"
   ]
  },
  {
   "cell_type": "markdown",
   "metadata": {},
   "source": [
    "## Reading & Slicing DataFrames"
   ]
  },
  {
   "cell_type": "code",
   "execution_count": 165,
   "metadata": {},
   "outputs": [
    {
     "name": "stdout",
     "output_type": "stream",
     "text": [
      "0      Alice\n",
      "1        Bob\n",
      "2    Charlie\n",
      "3      David\n",
      "4        Eve\n",
      "5      Frank\n",
      "6      Grace\n",
      "7       Hank\n",
      "8        Ivy\n",
      "9       Jack\n",
      "Name: Name, dtype: object\n"
     ]
    }
   ],
   "source": [
    "# Select a single column\n",
    "print(Employees[\"Name\"]) "
   ]
  },
  {
   "cell_type": "code",
   "execution_count": 166,
   "metadata": {},
   "outputs": [
    {
     "name": "stdout",
     "output_type": "stream",
     "text": [
      "      Name           City\n",
      "0    Alice       New York\n",
      "1      Bob        Chicago\n",
      "2  Charlie        Houston\n",
      "3    David          Miami\n",
      "4      Eve    Los Angeles\n",
      "5    Frank  San Francisco\n",
      "6    Grace       New York\n",
      "7     Hank         Boston\n",
      "8      Ivy        Seattle\n",
      "9     Jack        Chicago\n"
     ]
    }
   ],
   "source": [
    "# Select multiple columns\n",
    "print(Employees[[\"Name\", \"City\"]])  "
   ]
  },
  {
   "cell_type": "code",
   "execution_count": 167,
   "metadata": {},
   "outputs": [
    {
     "name": "stdout",
     "output_type": "stream",
     "text": [
      "EmployeeID        102\n",
      "Name              Bob\n",
      "Age                30\n",
      "Department         IT\n",
      "Salary          60000\n",
      "City          Chicago\n",
      "Name: 1, dtype: object\n"
     ]
    }
   ],
   "source": [
    "# Select rows using loc (label-based)\n",
    "print(Employees.loc[1])  # Second row"
   ]
  },
  {
   "cell_type": "code",
   "execution_count": 168,
   "metadata": {},
   "outputs": [
    {
     "name": "stdout",
     "output_type": "stream",
     "text": [
      "EmployeeID        103\n",
      "Name          Charlie\n",
      "Age                35\n",
      "Department    Finance\n",
      "Salary          70000\n",
      "City          Houston\n",
      "Name: 2, dtype: object\n"
     ]
    }
   ],
   "source": [
    "# Select rows using iloc (position-based)\n",
    "print(Employees.iloc[2])  # Third row"
   ]
  },
  {
   "cell_type": "markdown",
   "metadata": {},
   "source": [
    "### Activity:\n",
    "\n",
    "*Show the following:*\n",
    "\n",
    "1-  Employees Ids and Names\n",
    "\n",
    "2-  Salary\n",
    "\n",
    "3-  Eve information (based on row index)"
   ]
  },
  {
   "cell_type": "code",
   "execution_count": null,
   "metadata": {},
   "outputs": [],
   "source": []
  },
  {
   "cell_type": "markdown",
   "metadata": {},
   "source": [
    "## Checking Info & Summary Statistics\n",
    "\n",
    "**Get dataset details.**"
   ]
  },
  {
   "cell_type": "code",
   "execution_count": 169,
   "metadata": {},
   "outputs": [
    {
     "name": "stdout",
     "output_type": "stream",
     "text": [
      "<class 'pandas.core.frame.DataFrame'>\n",
      "RangeIndex: 10 entries, 0 to 9\n",
      "Data columns (total 6 columns):\n",
      " #   Column      Non-Null Count  Dtype \n",
      "---  ------      --------------  ----- \n",
      " 0   EmployeeID  10 non-null     int64 \n",
      " 1   Name        10 non-null     object\n",
      " 2   Age         10 non-null     int64 \n",
      " 3   Department  10 non-null     object\n",
      " 4   Salary      10 non-null     int64 \n",
      " 5   City        10 non-null     object\n",
      "dtypes: int64(3), object(3)\n",
      "memory usage: 608.0+ bytes\n",
      "None\n"
     ]
    }
   ],
   "source": [
    "# Get dataset structure using info\n",
    "print(Employees.info())"
   ]
  },
  {
   "cell_type": "code",
   "execution_count": 170,
   "metadata": {},
   "outputs": [
    {
     "name": "stdout",
     "output_type": "stream",
     "text": [
      "       EmployeeID        Age       Salary\n",
      "count    10.00000  10.000000     10.00000\n",
      "mean    105.50000  35.100000  64900.00000\n",
      "std       3.02765   7.978443   9492.10198\n",
      "min     101.00000  25.000000  50000.00000\n",
      "25%     103.25000  29.250000  58500.00000\n",
      "50%     105.50000  33.500000  64500.00000\n",
      "75%     107.75000  39.250000  71500.00000\n",
      "max     110.00000  50.000000  80000.00000\n"
     ]
    }
   ],
   "source": [
    "# Get summary statistics for numrical colunms using describe\n",
    "print(Employees.describe())"
   ]
  },
  {
   "cell_type": "code",
   "execution_count": 171,
   "metadata": {},
   "outputs": [
    {
     "name": "stdout",
     "output_type": "stream",
     "text": [
      "(10, 6)\n"
     ]
    }
   ],
   "source": [
    "# check rows & columns count.\n",
    "print(Employees.shape)"
   ]
  },
  {
   "cell_type": "markdown",
   "metadata": {},
   "source": [
    "## Handle Missing Data\n",
    "### Checking for missing data\n",
    "\n",
    "|        Method            | Description                           |\n",
    "| ------------------------ | ------------------------------------- |\n",
    "| df.isna().sum()\t       | Count missing values in all columns   |\t\n",
    "| df[\"col\"].isna().sum()   | Count missing values in a column      |\n",
    "| df[\"col\"].isna()\t       | Returns True/False for each row       |\n",
    "| df[df[\"col\"].isna()]\t   | Filters rows with missing values      |\n"
   ]
  },
  {
   "cell_type": "code",
   "execution_count": 172,
   "metadata": {},
   "outputs": [
    {
     "name": "stdout",
     "output_type": "stream",
     "text": [
      "   OrderID        Date     Customer  Product  Quantity   Price   Total  \\\n",
      "0     1001  2024-01-01     John Doe   Laptop         1  1000.0     NaN   \n",
      "1     1002  2024-01-02  Alice Smith    Phone         2   500.0  1000.0   \n",
      "2     1003  2024-01-03          NaN   Tablet         1   300.0   300.0   \n",
      "3     1004  2024-01-04  Charlie Lee  Monitor         2     NaN   400.0   \n",
      "4     1005         NaN    Eve Davis   Laptop         1  1000.0  1000.0   \n",
      "5     1006  2024-01-06          NaN   Tablet         3   300.0   900.0   \n",
      "\n",
      "            City  \n",
      "0       New York  \n",
      "1  San Francisco  \n",
      "2    Los Angeles  \n",
      "3         Boston  \n",
      "4        Chicago  \n",
      "5          Miami  \n"
     ]
    }
   ],
   "source": [
    "# Load the dataset\n",
    "sales = pd.read_csv(\"sales_data.csv\")\n",
    "\n",
    "# Display first 5 rows\n",
    "print(sales)"
   ]
  },
  {
   "cell_type": "code",
   "execution_count": 173,
   "metadata": {},
   "outputs": [
    {
     "name": "stdout",
     "output_type": "stream",
     "text": [
      "           OrderID  Quantity        Price        Total\n",
      "count     6.000000  6.000000     5.000000     5.000000\n",
      "mean   1003.500000  1.666667   620.000000   720.000000\n",
      "std       1.870829  0.816497   356.370594   342.052628\n",
      "min    1001.000000  1.000000   300.000000   300.000000\n",
      "25%    1002.250000  1.000000   300.000000   400.000000\n",
      "50%    1003.500000  1.500000   500.000000   900.000000\n",
      "75%    1004.750000  2.000000  1000.000000  1000.000000\n",
      "max    1006.000000  3.000000  1000.000000  1000.000000\n"
     ]
    }
   ],
   "source": [
    "# Get summary statistics for numrical columns. \n",
    "# Count of rows if a column contians less row it means it has empty\n",
    "print(sales.describe())"
   ]
  },
  {
   "cell_type": "code",
   "execution_count": 174,
   "metadata": {},
   "outputs": [
    {
     "name": "stdout",
     "output_type": "stream",
     "text": [
      "   OrderID   Date  Customer  Product  Quantity  Price  Total   City\n",
      "0    False  False     False    False     False  False   True  False\n",
      "1    False  False     False    False     False  False  False  False\n",
      "2    False  False      True    False     False  False  False  False\n",
      "3    False  False     False    False     False   True  False  False\n",
      "4    False   True     False    False     False  False  False  False\n",
      "5    False  False      True    False     False  False  False  False\n"
     ]
    }
   ],
   "source": [
    "# check nan values in dataframe\n",
    "print(sales.isna())"
   ]
  },
  {
   "cell_type": "code",
   "execution_count": 175,
   "metadata": {},
   "outputs": [
    {
     "name": "stdout",
     "output_type": "stream",
     "text": [
      "OrderID     0\n",
      "Date        1\n",
      "Customer    2\n",
      "Product     0\n",
      "Quantity    0\n",
      "Price       1\n",
      "Total       1\n",
      "City        0\n",
      "dtype: int64\n"
     ]
    }
   ],
   "source": [
    "# Count missing values for all columns even with non-numerical values\n",
    "print(sales.isna().sum())"
   ]
  },
  {
   "cell_type": "code",
   "execution_count": 176,
   "metadata": {},
   "outputs": [
    {
     "name": "stdout",
     "output_type": "stream",
     "text": [
      "0    False\n",
      "1    False\n",
      "2     True\n",
      "3    False\n",
      "4    False\n",
      "5     True\n",
      "Name: Customer, dtype: bool\n"
     ]
    }
   ],
   "source": [
    "# check Nan values in column Customer \n",
    "print(sales[\"Customer\"].isna())"
   ]
  },
  {
   "cell_type": "code",
   "execution_count": 177,
   "metadata": {},
   "outputs": [
    {
     "name": "stdout",
     "output_type": "stream",
     "text": [
      "   OrderID        Date Customer Product  Quantity  Price  Total         City\n",
      "2     1003  2024-01-03      NaN  Tablet         1  300.0  300.0  Los Angeles\n",
      "5     1006  2024-01-06      NaN  Tablet         3  300.0  900.0        Miami\n"
     ]
    }
   ],
   "source": [
    "# Find Rows with Missing Values in a Column\n",
    "\n",
    "print(sales[sales[\"Customer\"].isna()])  # Displays rows where \"Customer\" is NaN\n"
   ]
  },
  {
   "cell_type": "markdown",
   "metadata": {},
   "source": [
    "### Activity:\n",
    "\n",
    "Read file students_with_nan.csv, then perform the following:\n",
    "\n",
    "1-  Calculate count missing values for all columns even with non-numerical values from Students dataframe.\n",
    "\n",
    "2- Find Rows with Missing Values in City \n"
   ]
  },
  {
   "cell_type": "code",
   "execution_count": 178,
   "metadata": {},
   "outputs": [
    {
     "name": "stdout",
     "output_type": "stream",
     "text": [
      "      Name   Age      City\n",
      "0    Alice  25.0  New York\n",
      "1      Bob  30.0       NaN\n",
      "2  Charlie   NaN   Chicago\n",
      "3    David  40.0       NaN\n",
      "4     Emma  22.0     Miami\n"
     ]
    }
   ],
   "source": [
    "# Load CSV file\n",
    "Students= pd.read_csv(\"students_with_nan.csv\")\n",
    "\n",
    "# Display the DataFrame\n",
    "print(Students)\n",
    "\n",
    "# Check for missing values\n",
    "\n",
    "# Calculate how many missing values are in each column\n",
    "\n",
    "# Find Rows with Missing Values in City \n",
    "\n"
   ]
  },
  {
   "cell_type": "markdown",
   "metadata": {},
   "source": [
    "## Fix Missing Values & Format Dates\n",
    "\n",
    "using fillna() , ffill(), bfill(), interpolate(), and dropna()"
   ]
  },
  {
   "cell_type": "code",
   "execution_count": 179,
   "metadata": {},
   "outputs": [
    {
     "name": "stdout",
     "output_type": "stream",
     "text": [
      "   OrderID        Date     Customer  Product  Quantity   Price   Total  \\\n",
      "0     1001  2024-01-01     John Doe   Laptop         1  1000.0  1000.0   \n",
      "1     1002  2024-01-02  Alice Smith    Phone         2   500.0  1000.0   \n",
      "2     1003  2024-01-03          NaN   Tablet         1   300.0   300.0   \n",
      "3     1004  2024-01-04  Charlie Lee  Monitor         2     NaN   400.0   \n",
      "4     1005         NaN    Eve Davis   Laptop         1  1000.0  1000.0   \n",
      "5     1006  2024-01-06          NaN   Tablet         3   300.0   900.0   \n",
      "\n",
      "            City  \n",
      "0       New York  \n",
      "1  San Francisco  \n",
      "2    Los Angeles  \n",
      "3         Boston  \n",
      "4        Chicago  \n",
      "5          Miami  \n"
     ]
    }
   ],
   "source": [
    "# Fill missing Total by running an equation on other columns Total = Quantitiy * Price\n",
    "total = sales[\"Quantity\"] * sales[\"Price\"]\n",
    "sales[\"Total\"]=sales[\"Total\"].fillna(total)\n",
    "print(sales)"
   ]
  },
  {
   "cell_type": "code",
   "execution_count": 180,
   "metadata": {},
   "outputs": [
    {
     "name": "stdout",
     "output_type": "stream",
     "text": [
      "   OrderID        Date     Customer  Product  Quantity   Price   Total  \\\n",
      "0     1001  2024-01-01     John Doe   Laptop         1  1000.0  1000.0   \n",
      "1     1002  2024-01-02  Alice Smith    Phone         2   500.0  1000.0   \n",
      "2     1003  2024-01-03          NaN   Tablet         1   300.0   300.0   \n",
      "3     1004  2024-01-04  Charlie Lee  Monitor         2   620.0   400.0   \n",
      "4     1005         NaN    Eve Davis   Laptop         1  1000.0  1000.0   \n",
      "5     1006  2024-01-06          NaN   Tablet         3   300.0   900.0   \n",
      "\n",
      "            City  \n",
      "0       New York  \n",
      "1  San Francisco  \n",
      "2    Los Angeles  \n",
      "3         Boston  \n",
      "4        Chicago  \n",
      "5          Miami  \n"
     ]
    }
   ],
   "source": [
    "# Fill missing Price with mean price\n",
    "avg_price = sales[\"Price\"].mean()\n",
    "sales[\"Price\"]=sales[\"Price\"].fillna(avg_price)\n",
    "print(sales)"
   ]
  },
  {
   "cell_type": "code",
   "execution_count": 181,
   "metadata": {},
   "outputs": [
    {
     "name": "stdout",
     "output_type": "stream",
     "text": [
      "   OrderID        Date     Customer  Product  Quantity   Price   Total  \\\n",
      "0     1001  2024-01-01     John Doe   Laptop         1  1000.0  1000.0   \n",
      "1     1002  2024-01-02  Alice Smith    Phone         2   500.0  1000.0   \n",
      "3     1004  2024-01-04  Charlie Lee  Monitor         2   620.0   400.0   \n",
      "4     1005         NaN    Eve Davis   Laptop         1  1000.0  1000.0   \n",
      "\n",
      "            City  \n",
      "0       New York  \n",
      "1  San Francisco  \n",
      "3         Boston  \n",
      "4        Chicago  \n"
     ]
    }
   ],
   "source": [
    "# Drop rows where \"Customer\" is missing\n",
    "sales.dropna(subset=[\"Customer\"], inplace=True)\n",
    "print(sales)"
   ]
  },
  {
   "cell_type": "code",
   "execution_count": 182,
   "metadata": {},
   "outputs": [
    {
     "name": "stdout",
     "output_type": "stream",
     "text": [
      "<class 'pandas.core.frame.DataFrame'>\n",
      "Index: 4 entries, 0 to 4\n",
      "Data columns (total 8 columns):\n",
      " #   Column    Non-Null Count  Dtype  \n",
      "---  ------    --------------  -----  \n",
      " 0   OrderID   4 non-null      int64  \n",
      " 1   Date      3 non-null      object \n",
      " 2   Customer  4 non-null      object \n",
      " 3   Product   4 non-null      object \n",
      " 4   Quantity  4 non-null      int64  \n",
      " 5   Price     4 non-null      float64\n",
      " 6   Total     4 non-null      float64\n",
      " 7   City      4 non-null      object \n",
      "dtypes: float64(2), int64(2), object(4)\n",
      "memory usage: 288.0+ bytes\n",
      "None\n"
     ]
    }
   ],
   "source": [
    "print(sales.info())"
   ]
  },
  {
   "cell_type": "code",
   "execution_count": 183,
   "metadata": {},
   "outputs": [
    {
     "name": "stdout",
     "output_type": "stream",
     "text": [
      "<class 'pandas.core.frame.DataFrame'>\n",
      "Index: 4 entries, 0 to 4\n",
      "Data columns (total 8 columns):\n",
      " #   Column    Non-Null Count  Dtype         \n",
      "---  ------    --------------  -----         \n",
      " 0   OrderID   4 non-null      int64         \n",
      " 1   Date      3 non-null      datetime64[ns]\n",
      " 2   Customer  4 non-null      object        \n",
      " 3   Product   4 non-null      object        \n",
      " 4   Quantity  4 non-null      int64         \n",
      " 5   Price     4 non-null      float64       \n",
      " 6   Total     4 non-null      float64       \n",
      " 7   City      4 non-null      object        \n",
      "dtypes: datetime64[ns](1), float64(2), int64(2), object(3)\n",
      "memory usage: 288.0+ bytes\n",
      "None\n"
     ]
    }
   ],
   "source": [
    "# Convert \"Date\" column to datetime format\n",
    "sales[\"Date\"] = pd.to_datetime(sales[\"Date\"])\n",
    "print(sales.info())"
   ]
  },
  {
   "cell_type": "code",
   "execution_count": 184,
   "metadata": {},
   "outputs": [
    {
     "name": "stdout",
     "output_type": "stream",
     "text": [
      "   OrderID       Date     Customer  Product  Quantity   Price   Total  \\\n",
      "0     1001 2024-01-01     John Doe   Laptop         1  1000.0  1000.0   \n",
      "1     1002 2024-01-02  Alice Smith    Phone         2   500.0  1000.0   \n",
      "3     1004 2024-01-04  Charlie Lee  Monitor         2   620.0   400.0   \n",
      "4     1005 2024-01-01    Eve Davis   Laptop         1  1000.0  1000.0   \n",
      "\n",
      "            City  \n",
      "0       New York  \n",
      "1  San Francisco  \n",
      "3         Boston  \n",
      "4        Chicago  \n"
     ]
    }
   ],
   "source": [
    "# Replace NaT with a Specific Date \"2024-01-01\"\n",
    "# If you want to fill all missing dates with a fixed date:\n",
    "\n",
    "sales[\"Date\"] = sales[\"Date\"].fillna(pd.to_datetime(\"2024-01-01\"))\n",
    "print(sales)"
   ]
  },
  {
   "cell_type": "code",
   "execution_count": 185,
   "metadata": {},
   "outputs": [
    {
     "name": "stdout",
     "output_type": "stream",
     "text": [
      "   OrderID       Date     Customer  Product  Quantity   Price   Total  \\\n",
      "0     1001 2024-01-01     John Doe   Laptop         1  1000.0     NaN   \n",
      "1     1002 2024-01-02  Alice Smith    Phone         2   500.0  1000.0   \n",
      "2     1003 2024-01-03          NaN   Tablet         1   300.0   300.0   \n",
      "3     1004 2024-01-04  Charlie Lee  Monitor         2     NaN   400.0   \n",
      "4     1005        NaT    Eve Davis   Laptop         1  1000.0  1000.0   \n",
      "5     1006 2024-01-06          NaN   Tablet         3   300.0   900.0   \n",
      "\n",
      "            City  \n",
      "0       New York  \n",
      "1  San Francisco  \n",
      "2    Los Angeles  \n",
      "3         Boston  \n",
      "4        Chicago  \n",
      "5          Miami  \n",
      "   OrderID       Date     Customer  Product  Quantity   Price   Total  \\\n",
      "0     1001 2024-01-01     John Doe   Laptop         1  1000.0     NaN   \n",
      "1     1002 2024-01-02  Alice Smith    Phone         2   500.0  1000.0   \n",
      "2     1003 2024-01-03          NaN   Tablet         1   300.0   300.0   \n",
      "3     1004 2024-01-04  Charlie Lee  Monitor         2     NaN   400.0   \n",
      "4     1005 2024-01-04    Eve Davis   Laptop         1  1000.0  1000.0   \n",
      "5     1006 2024-01-06          NaN   Tablet         3   300.0   900.0   \n",
      "\n",
      "            City  \n",
      "0       New York  \n",
      "1  San Francisco  \n",
      "2    Los Angeles  \n",
      "3         Boston  \n",
      "4        Chicago  \n",
      "5          Miami  \n"
     ]
    }
   ],
   "source": [
    "# Forward Fill (ffill)\n",
    "# Fills missing dates with previous row's value.\n",
    "sales = pd.read_csv(\"sales_data.csv\")\n",
    "sales[\"Date\"] = pd.to_datetime(sales[\"Date\"])\n",
    "print(sales)\n",
    "sales[\"Date\"] = sales[\"Date\"].ffill()\n",
    "print(sales)"
   ]
  },
  {
   "cell_type": "code",
   "execution_count": 186,
   "metadata": {},
   "outputs": [
    {
     "name": "stdout",
     "output_type": "stream",
     "text": [
      "   OrderID       Date     Customer  Product  Quantity   Price   Total  \\\n",
      "0     1001 2024-01-01     John Doe   Laptop         1  1000.0     NaN   \n",
      "1     1002 2024-01-02  Alice Smith    Phone         2   500.0  1000.0   \n",
      "2     1003 2024-01-03          NaN   Tablet         1   300.0   300.0   \n",
      "3     1004 2024-01-04  Charlie Lee  Monitor         2     NaN   400.0   \n",
      "4     1005        NaT    Eve Davis   Laptop         1  1000.0  1000.0   \n",
      "5     1006 2024-01-06          NaN   Tablet         3   300.0   900.0   \n",
      "\n",
      "            City  \n",
      "0       New York  \n",
      "1  San Francisco  \n",
      "2    Los Angeles  \n",
      "3         Boston  \n",
      "4        Chicago  \n",
      "5          Miami  \n",
      "   OrderID       Date     Customer  Product  Quantity   Price   Total  \\\n",
      "0     1001 2024-01-01     John Doe   Laptop         1  1000.0     NaN   \n",
      "1     1002 2024-01-02  Alice Smith    Phone         2   500.0  1000.0   \n",
      "2     1003 2024-01-03          NaN   Tablet         1   300.0   300.0   \n",
      "3     1004 2024-01-04  Charlie Lee  Monitor         2     NaN   400.0   \n",
      "4     1005 2024-01-06    Eve Davis   Laptop         1  1000.0  1000.0   \n",
      "5     1006 2024-01-06          NaN   Tablet         3   300.0   900.0   \n",
      "\n",
      "            City  \n",
      "0       New York  \n",
      "1  San Francisco  \n",
      "2    Los Angeles  \n",
      "3         Boston  \n",
      "4        Chicago  \n",
      "5          Miami  \n"
     ]
    }
   ],
   "source": [
    "# Backward Fill (bfill)\n",
    "# Fills missing dates with next row's value.\n",
    "sales = pd.read_csv(\"sales_data.csv\")\n",
    "sales[\"Date\"] = pd.to_datetime(sales[\"Date\"])\n",
    "print(sales)\n",
    "sales[\"Date\"] = sales[\"Date\"].bfill()\n",
    "print(sales)"
   ]
  },
  {
   "cell_type": "code",
   "execution_count": 187,
   "metadata": {},
   "outputs": [
    {
     "name": "stdout",
     "output_type": "stream",
     "text": [
      "   OrderID       Date     Customer  Product  Quantity   Price   Total  \\\n",
      "0     1001 2024-01-01     John Doe   Laptop         1  1000.0     NaN   \n",
      "1     1002 2024-01-02  Alice Smith    Phone         2   500.0  1000.0   \n",
      "2     1003 2024-01-03          NaN   Tablet         1   300.0   300.0   \n",
      "3     1004 2024-01-04  Charlie Lee  Monitor         2     NaN   400.0   \n",
      "4     1005        NaT    Eve Davis   Laptop         1  1000.0  1000.0   \n",
      "5     1006 2024-01-06          NaN   Tablet         3   300.0   900.0   \n",
      "\n",
      "            City  \n",
      "0       New York  \n",
      "1  San Francisco  \n",
      "2    Los Angeles  \n",
      "3         Boston  \n",
      "4        Chicago  \n",
      "5          Miami  \n",
      "   OrderID       Date     Customer  Product  Quantity   Price   Total  \\\n",
      "0     1001 2024-01-01     John Doe   Laptop         1  1000.0     NaN   \n",
      "1     1002 2024-01-02  Alice Smith    Phone         2   500.0  1000.0   \n",
      "2     1003 2024-01-03          NaN   Tablet         1   300.0   300.0   \n",
      "3     1004 2024-01-04  Charlie Lee  Monitor         2     NaN   400.0   \n",
      "4     1005 2024-01-05    Eve Davis   Laptop         1  1000.0  1000.0   \n",
      "5     1006 2024-01-06          NaN   Tablet         3   300.0   900.0   \n",
      "\n",
      "            City  \n",
      "0       New York  \n",
      "1  San Francisco  \n",
      "2    Los Angeles  \n",
      "3         Boston  \n",
      "4        Chicago  \n",
      "5          Miami  \n"
     ]
    }
   ],
   "source": [
    "# Interpolation (Estimate Missing Dates)\n",
    "# If dates follow a regular pattern, use interpolation.\n",
    "sales = pd.read_csv(\"sales_data.csv\")\n",
    "sales[\"Date\"] = pd.to_datetime(sales[\"Date\"])\n",
    "print(sales)\n",
    "sales[\"Date\"] = sales[\"Date\"].interpolate()\n",
    "print(sales)"
   ]
  },
  {
   "cell_type": "markdown",
   "metadata": {},
   "source": [
    "### Activity: \n",
    "\n",
    "Read file students_with_nan.csv, then perform the following:\n",
    "\n",
    "1- Fill missing city values with \"Unknown.\"\n",
    "\n",
    "2- Fill missing ages with the median age."
   ]
  },
  {
   "cell_type": "code",
   "execution_count": 188,
   "metadata": {},
   "outputs": [
    {
     "name": "stdout",
     "output_type": "stream",
     "text": [
      "      Name   Age      City\n",
      "0    Alice  25.0  New York\n",
      "1      Bob  30.0       NaN\n",
      "2  Charlie   NaN   Chicago\n",
      "3    David  40.0       NaN\n",
      "4     Emma  22.0     Miami\n"
     ]
    }
   ],
   "source": [
    "# Load CSV file\n",
    "Students= pd.read_csv(\"students_with_nan.csv\")\n",
    "\n",
    "# Display the DataFrame\n",
    "print(Students)\n",
    "\n",
    "# Fill missing city values with \"Unknown.\"\n",
    "\n",
    "# Fill missing ages with the mean age.\n"
   ]
  }
 ],
 "metadata": {
  "kernelspec": {
   "display_name": "Python 3",
   "language": "python",
   "name": "python3"
  },
  "language_info": {
   "codemirror_mode": {
    "name": "ipython",
    "version": 3
   },
   "file_extension": ".py",
   "mimetype": "text/x-python",
   "name": "python",
   "nbconvert_exporter": "python",
   "pygments_lexer": "ipython3",
   "version": "3.10.7"
  }
 },
 "nbformat": 4,
 "nbformat_minor": 2
}
