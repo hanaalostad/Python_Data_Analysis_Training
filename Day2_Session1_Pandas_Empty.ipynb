{
 "cells": [
  {
   "cell_type": "markdown",
   "metadata": {},
   "source": [
    "## Getting Started with Pandas\n",
    "### Install Pandas (If Needed)"
   ]
  },
  {
   "cell_type": "code",
   "execution_count": null,
   "metadata": {},
   "outputs": [],
   "source": [
    "pip install pandas"
   ]
  },
  {
   "cell_type": "markdown",
   "metadata": {},
   "source": [
    "### Import Pandas"
   ]
  },
  {
   "cell_type": "code",
   "execution_count": null,
   "metadata": {},
   "outputs": [],
   "source": [
    "import pandas as pd"
   ]
  },
  {
   "cell_type": "markdown",
   "metadata": {},
   "source": [
    "## Creating a DataFrame\n",
    "You can create data frames from lists, dictionry, structured data files like .csv , Excel sheets. "
   ]
  },
  {
   "cell_type": "code",
   "execution_count": null,
   "metadata": {},
   "outputs": [],
   "source": [
    "# Create a DataFrame\n",
    "data = {\n",
    "    \"Name\": [\"Alice\", \"Bob\", \"Charlie\", \"David\"],\n",
    "    \"Age\": [25, 30, 35, 40],\n",
    "    \"City\": [\"New York\", \"Los Angeles\", \"Chicago\", \"Houston\"]\n",
    "}\n",
    "\n",
    "df = \n",
    "\n",
    "# Display DataFrame\n",
    "print(df)\n"
   ]
  },
  {
   "cell_type": "code",
   "execution_count": null,
   "metadata": {},
   "outputs": [],
   "source": [
    "# print only the top two rows\n"
   ]
  },
  {
   "cell_type": "code",
   "execution_count": null,
   "metadata": {},
   "outputs": [],
   "source": [
    "# print only the last two rows\n"
   ]
  },
  {
   "cell_type": "markdown",
   "metadata": {},
   "source": [
    "## Reading from a CSV File"
   ]
  },
  {
   "cell_type": "code",
   "execution_count": null,
   "metadata": {},
   "outputs": [],
   "source": [
    "import pandas as pd\n",
    "\n",
    "# Read Employees.csv file\n",
    "Employees = \n",
    "\n",
    "# Display first rows\n",
    "print(Employees.head())"
   ]
  },
  {
   "cell_type": "markdown",
   "metadata": {},
   "source": [
    "## Reading & Slicing DataFrames"
   ]
  },
  {
   "cell_type": "code",
   "execution_count": null,
   "metadata": {},
   "outputs": [],
   "source": [
    "# Print values of a single column \"Name\"\n"
   ]
  },
  {
   "cell_type": "code",
   "execution_count": null,
   "metadata": {},
   "outputs": [],
   "source": [
    "# Print values of multiple columns \"Name\" and \"City\"\n"
   ]
  },
  {
   "cell_type": "code",
   "execution_count": null,
   "metadata": {},
   "outputs": [],
   "source": [
    "# Select range of rows \n",
    "# row at index 2 to row at index 4 "
   ]
  },
  {
   "cell_type": "code",
   "execution_count": null,
   "metadata": {},
   "outputs": [],
   "source": [
    "# Select rows using iloc (position-based)\n",
    "# Third row"
   ]
  },
  {
   "cell_type": "markdown",
   "metadata": {},
   "source": [
    "### Activity:\n",
    "\n",
    "\n",
    "*Using Employees dataframe, show the following:*\n",
    "\n",
    "1-  Employees Ids and Names\n",
    "\n",
    "2-  Salary\n",
    "\n",
    "3-  Eve information (based on row index)"
   ]
  },
  {
   "cell_type": "code",
   "execution_count": null,
   "metadata": {},
   "outputs": [],
   "source": []
  },
  {
   "cell_type": "markdown",
   "metadata": {},
   "source": [
    "## Checking Info & Summary Statistics\n",
    "\n",
    "**Get dataset details.**"
   ]
  },
  {
   "cell_type": "code",
   "execution_count": null,
   "metadata": {},
   "outputs": [],
   "source": [
    "# Get dataset structure of dataframe ising info()\n"
   ]
  },
  {
   "cell_type": "code",
   "execution_count": null,
   "metadata": {},
   "outputs": [],
   "source": [
    "# Get summary statistics for numrical colunms in dataframe using describe()\n"
   ]
  },
  {
   "cell_type": "code",
   "execution_count": null,
   "metadata": {},
   "outputs": [],
   "source": [
    "# check rows & columns count using shape\n"
   ]
  },
  {
   "cell_type": "markdown",
   "metadata": {},
   "source": [
    "## Handle Missing Data\n",
    "### Checking for missing data\n",
    "\n",
    "|        Method            | Description                           |\n",
    "| ------------------------ | ------------------------------------- |\n",
    "| df.isna().sum()\t       | Count missing values in all columns   |\t\n",
    "| df[\"col\"].isna().sum()   | Count missing values in a column      |\n",
    "| df[\"col\"].isna()\t       | Returns True/False for each row       |\n",
    "| df[df[\"col\"].isna()]\t   | Filters rows with missing values      |\n"
   ]
  },
  {
   "cell_type": "code",
   "execution_count": null,
   "metadata": {},
   "outputs": [],
   "source": [
    "# Load the dataset\n",
    "sales = pd.read_csv(\"sales_data.csv\")\n",
    "\n",
    "# Display sales data\n",
    "print(sales)"
   ]
  },
  {
   "cell_type": "code",
   "execution_count": null,
   "metadata": {},
   "outputs": [],
   "source": [
    "# Get summary statistics for numrical columns. \n",
    "# Count of rows if a column contians less row it means it has empty\n",
    "print(sales.describe())"
   ]
  },
  {
   "cell_type": "code",
   "execution_count": null,
   "metadata": {},
   "outputs": [],
   "source": [
    "# check all nan values in dataframe\n"
   ]
  },
  {
   "cell_type": "code",
   "execution_count": null,
   "metadata": {},
   "outputs": [],
   "source": [
    "# Count missing values for all columns even with non-numerical values\n"
   ]
  },
  {
   "cell_type": "code",
   "execution_count": null,
   "metadata": {},
   "outputs": [],
   "source": [
    "# check Nan values in column Customer \n"
   ]
  },
  {
   "cell_type": "code",
   "execution_count": null,
   "metadata": {},
   "outputs": [],
   "source": [
    "# Find Rows with Missing Values in a Column\n",
    "\n",
    "# Displays rows where \"Customer\" is NaN\n"
   ]
  },
  {
   "cell_type": "markdown",
   "metadata": {},
   "source": [
    "### Activity:\n",
    "\n",
    "Read file students_with_nan.csv, then perform the following:\n",
    "\n",
    "1-  Calculate count missing values for all columns even with non-numerical values from Students dataframe.\n",
    "\n",
    "2- Find Rows with Missing Values in City \n"
   ]
  },
  {
   "cell_type": "code",
   "execution_count": null,
   "metadata": {},
   "outputs": [],
   "source": [
    "# Load CSV file\n",
    "Students= pd.read_csv(\"students_with_nan.csv\")\n",
    "\n",
    "# Display the DataFrame\n",
    "print(Students)\n",
    "\n",
    "# Check for missing values\n",
    "\n",
    "# Calculate how many missing values are in each column\n",
    "\n",
    "# Find Rows with Missing Values in City \n",
    "\n"
   ]
  },
  {
   "cell_type": "markdown",
   "metadata": {},
   "source": [
    "## Fix Missing Values & Format Dates\n",
    "\n",
    "using fillna() , ffill(), bfill(), interpolate(), and dropna()"
   ]
  },
  {
   "cell_type": "code",
   "execution_count": null,
   "metadata": {},
   "outputs": [],
   "source": [
    "# Fill missing Total by running an equation based on other columns Total = Quantitiy * Price\n"
   ]
  },
  {
   "cell_type": "code",
   "execution_count": null,
   "metadata": {},
   "outputs": [],
   "source": [
    "# Fill missing Price with mean price\n"
   ]
  },
  {
   "cell_type": "code",
   "execution_count": null,
   "metadata": {},
   "outputs": [],
   "source": [
    "# Drop rows where \"Customer\" is missing\n"
   ]
  },
  {
   "cell_type": "code",
   "execution_count": null,
   "metadata": {},
   "outputs": [],
   "source": [
    "print(sales.info())"
   ]
  },
  {
   "cell_type": "code",
   "execution_count": null,
   "metadata": {},
   "outputs": [],
   "source": [
    "# Convert \"Date\" column to datetime format\n"
   ]
  },
  {
   "cell_type": "code",
   "execution_count": null,
   "metadata": {},
   "outputs": [],
   "source": [
    "# Replace NaT with a Specific Date \"2024-01-01\"\n",
    "# If you want to fill all missing dates with a fixed date:\n",
    "sales = pd.read_csv(\"sales_data.csv\")\n",
    "sales[\"Date\"] = pd.to_datetime(sales[\"Date\"])\n",
    "print(sales)\n"
   ]
  },
  {
   "cell_type": "code",
   "execution_count": null,
   "metadata": {},
   "outputs": [],
   "source": [
    "# Forward Fill (ffill)\n",
    "# Fills missing dates with previous row's value.\n",
    "sales = pd.read_csv(\"sales_data.csv\")\n",
    "sales[\"Date\"] = pd.to_datetime(sales[\"Date\"])\n",
    "print(sales)"
   ]
  },
  {
   "cell_type": "code",
   "execution_count": null,
   "metadata": {},
   "outputs": [],
   "source": [
    "# Backward Fill (bfill)\n",
    "# Fills missing dates with next row's value.\n",
    "sales = pd.read_csv(\"sales_data.csv\")\n",
    "sales[\"Date\"] = pd.to_datetime(sales[\"Date\"])\n",
    "print(sales)\n"
   ]
  },
  {
   "cell_type": "code",
   "execution_count": null,
   "metadata": {},
   "outputs": [],
   "source": [
    "# Interpolation (Estimate Missing Dates)\n",
    "# If dates follow a regular pattern, use interpolation.\n",
    "sales = pd.read_csv(\"sales_data.csv\")\n",
    "sales[\"Date\"] = pd.to_datetime(sales[\"Date\"])\n",
    "print(sales)\n"
   ]
  },
  {
   "cell_type": "markdown",
   "metadata": {},
   "source": [
    "### Activity: \n",
    "\n",
    "Read file students_with_nan.csv, then perform the following:\n",
    "\n",
    "1- Fill missing city values with \"Unknown.\"\n",
    "\n",
    "2- Fill missing ages with the median age."
   ]
  },
  {
   "cell_type": "code",
   "execution_count": null,
   "metadata": {},
   "outputs": [],
   "source": [
    "# Load CSV file\n",
    "Students= pd.read_csv(\"students_with_nan.csv\")\n",
    "\n",
    "# Display the DataFrame\n",
    "print(Students)\n",
    "\n",
    "# Fill missing city values with \"Unknown.\"\n",
    "\n",
    "# Fill missing ages with the mean age.\n"
   ]
  }
 ],
 "metadata": {
  "kernelspec": {
   "display_name": "Python 3",
   "language": "python",
   "name": "python3"
  },
  "language_info": {
   "codemirror_mode": {
    "name": "ipython",
    "version": 3
   },
   "file_extension": ".py",
   "mimetype": "text/x-python",
   "name": "python",
   "nbconvert_exporter": "python",
   "pygments_lexer": "ipython3",
   "version": "3.10.7"
  }
 },
 "nbformat": 4,
 "nbformat_minor": 2
}
