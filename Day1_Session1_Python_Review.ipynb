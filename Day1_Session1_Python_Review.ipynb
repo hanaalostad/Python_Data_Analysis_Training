{
  "cells": [
    {
      "cell_type": "markdown",
      "metadata": {},
      "source": [
        "### **Introduction to Python**  \n",
        "\n",
        "Python is a **high-level, easy-to-read programming language** used for **web development, data analysis, machine learning, automation, and more**.  \n",
        "\n",
        "#### **Why Learn Python?**  \n",
        "1-**Beginner-Friendly** – Simple and readable syntax  \n",
        "2-**Versatile** – Used in AI, data science, web apps, and scripting  \n",
        "3-**Huge Community** – Tons of resources and libraries  \n",
        "4-**Fast Development** – Write less code, get more done  \n",
        "\n",
        "#### **Key Features of Python**  \n",
        "- **Interpreted** – No need to compile, just run the script  \n",
        "- **Dynamically Typed** – No need to define variable types  \n",
        "- **Object-Oriented & Functional** – Supports multiple programming styles  \n",
        "- **Extensive Libraries** – Pandas, NumPy, Matplotlib, TensorFlow, etc.  \n",
        "\n",
        "By mastering Python, you can work in **data science, web development, automation, and AI**!   \n",
        "\n",
        "**Let's review Python concepts**"
      ]
    },
    {
      "cell_type": "markdown",
      "metadata": {},
      "source": [
        "### **Show Program Output to Consol** "
      ]
    },
    {
      "cell_type": "code",
      "execution_count": null,
      "metadata": {
        "id": "cwKqaEpd1YPg"
      },
      "outputs": [],
      "source": [
        "print(\"Hello python\")"
      ]
    },
    {
      "cell_type": "markdown",
      "metadata": {
        "id": "Xdm-yK7Q1pdR"
      },
      "source": [
        "**Using Scape Characters and Formating**"
      ]
    },
    {
      "cell_type": "code",
      "execution_count": null,
      "metadata": {
        "id": "-MrOiOTr1eTO"
      },
      "outputs": [],
      "source": [
        "print(\"Hello \\\"students\\\"\")  # use \\ before \" or ' to show it in print output"
      ]
    },
    {
      "cell_type": "code",
      "execution_count": null,
      "metadata": {
        "id": "rs7kOXZ31pBQ"
      },
      "outputs": [],
      "source": [
        "print(\"we want to print backslash \\\\ part of output\")  # use \\ before \\ to show it in print output"
      ]
    },
    {
      "cell_type": "code",
      "execution_count": null,
      "metadata": {
        "id": "Iq0jxe372FFT"
      },
      "outputs": [],
      "source": [
        "print(\"we want to print output \\nin two lines\") # use \\n in order to add new line before text next to it"
      ]
    },
    {
      "cell_type": "code",
      "execution_count": null,
      "metadata": {
        "id": "ejCCihju22Vg"
      },
      "outputs": [],
      "source": [
        "# string concatination\n",
        "print(\"we want to output\" + \" two text strings\")"
      ]
    },
    {
      "cell_type": "code",
      "execution_count": null,
      "metadata": {
        "id": "ebmFaTZQ3Qz-"
      },
      "outputs": [],
      "source": [
        "# will this work?\n",
        "print(\"we want to output \" + str(5))"
      ]
    },
    {
      "cell_type": "code",
      "execution_count": null,
      "metadata": {
        "id": "QMuGgX2C3LVw"
      },
      "outputs": [],
      "source": [
        "# string concatination\n",
        "print(\"we want to output\" , \"two text strings\")"
      ]
    },
    {
      "cell_type": "code",
      "execution_count": null,
      "metadata": {
        "id": "gbdk5WNZ3QGU"
      },
      "outputs": [],
      "source": [
        "# will this work?\n",
        "print(\"we want to output\" , 5)"
      ]
    },
    {
      "cell_type": "code",
      "execution_count": null,
      "metadata": {
        "id": "tbeEl2dj2mED"
      },
      "outputs": [],
      "source": [
        "item = \"coffee\"\n",
        "price = 3.500\n",
        "print(f\"the price of {item} is {price :.1f} kd\") # formating output"
      ]
    },
    {
      "cell_type": "markdown",
      "metadata": {
        "id": "Mh1qfCYO3iVg"
      },
      "source": [
        "### **Variables**\n",
        "#### **Rules for Variable Naming in Python**\n",
        "\n",
        "When naming variables in Python, follow these rules:\n",
        "\n",
        "**1. Must start with a letter or underscore (`_`)**  \n",
        "- `age = 25`  \n",
        "- `_name = \"Alice\"`  \n",
        "- `1name = \"Bob\"` (This is not allowed because variable names cannot start with a number.)  \n",
        "\n",
        "**2. Can contain letters, numbers, and underscores**  \n",
        "- `user_age = 30`  \n",
        "- `speed2 = 100`  \n",
        "- `user-age = 30` (This is not allowed because dashes `-` are not permitted in variable names.)  \n",
        "\n",
        "**3. Case-sensitive (uppercase and lowercase are different)**  \n",
        "- `Name = \"Alice\"`  \n",
        "- `name = \"Bob\"`  \n",
        "- `Name` and `name` are considered different variables.  \n",
        "\n",
        "**4. Cannot use Python keywords (such as `if`, `while`, `def`, `class`)**  \n",
        "- `def = 10` (This is not allowed because `def` is a reserved keyword.)  \n",
        "- `definition = 10` (This is allowed because it is not a keyword.)  \n",
        "\n",
        "**5. Use descriptive names**  \n",
        "- `total_price = 100` (This is a clear and meaningful name.)  \n",
        "- `tp = 100` (This is not recommended because it is too vague.)  \n",
        "\n",
        "**6. Use snake_case for multi-word names**  \n",
        "- `user_name = \"Alice\"` (Recommended in Python)  \n",
        "- `userName = \"Alice\"` (This uses camelCase, which is common in other languages but not the Python standard.)  \n",
        "\n",
        "---\n",
        "\n",
        "**Examples of Good Variable Names**\n",
        "```python\n",
        "student_count = 50\n",
        "average_score = 85.5\n",
        "is_active = True\n",
        "_max_speed = 120\n"
      ]
    },
    {
      "cell_type": "code",
      "execution_count": null,
      "metadata": {
        "id": "bCRzsrns3lmk"
      },
      "outputs": [],
      "source": [
        "1Name = \"Huda\" # invalid variable name"
      ]
    },
    {
      "cell_type": "code",
      "execution_count": null,
      "metadata": {
        "id": "M2JkoSUK3vpN"
      },
      "outputs": [],
      "source": [
        "*Name = \"Huda\" # invalid variable name"
      ]
    },
    {
      "cell_type": "code",
      "execution_count": null,
      "metadata": {
        "id": "hKTYoe_n36TS"
      },
      "outputs": [],
      "source": [
        "Name-last = \"Ali\" # invalid variable name"
      ]
    },
    {
      "cell_type": "code",
      "execution_count": null,
      "metadata": {
        "id": "VvAmDN3l4Bou"
      },
      "outputs": [],
      "source": [
        "while = \"test\" # invalid variable name"
      ]
    },
    {
      "cell_type": "code",
      "execution_count": null,
      "metadata": {
        "id": "oOCSoBFx4LzT"
      },
      "outputs": [],
      "source": [
        "#valid variable names\n",
        "item = \"computer\"\n",
        "first_name = \"Bader\"\n",
        "Name1 = \"Ahmed\""
      ]
    },
    {
      "cell_type": "code",
      "execution_count": null,
      "metadata": {},
      "outputs": [],
      "source": [
        "print(item,first_name,Name1)"
      ]
    },
    {
      "cell_type": "markdown",
      "metadata": {
        "id": "GsVPz2j24pkj"
      },
      "source": [
        "### **Input**\n",
        "### **Rules for Handling Input in Python**\n",
        "\n",
        "When taking user input in Python, follow these best practices:\n",
        "\n",
        "**1. Use the `input()` Function**  \n",
        "- `input()` is used to take input from the user as a string.  \n",
        "```python\n",
        "name = input(\"Enter your name: \")\n",
        "print(\"Hello, \" + name) \n",
        "```\n",
        "**2. Convert Input to the Correct Data Type**\n",
        "input() always returns a string, so convert it if needed.\n"
      ]
    },
    {
      "cell_type": "code",
      "execution_count": null,
      "metadata": {
        "id": "zY4C6zR94rKB"
      },
      "outputs": [],
      "source": [
        "# input function always read values as string\n",
        "name = input(\"enter your name: \")\n",
        "type(name)"
      ]
    },
    {
      "cell_type": "code",
      "execution_count": null,
      "metadata": {
        "id": "iWtA970B5DFF"
      },
      "outputs": [],
      "source": [
        "age= input(\"enter age: \")\n",
        "type(age)"
      ]
    },
    {
      "cell_type": "code",
      "execution_count": null,
      "metadata": {
        "id": "6qbwnRrT5FJu"
      },
      "outputs": [],
      "source": [
        "# you need to cast input value it to proper type in case it's not string\n",
        "age= int(input(\"enter age: \"))\n",
        "type(age)"
      ]
    },
    {
      "cell_type": "code",
      "execution_count": null,
      "metadata": {
        "id": "JwzHQeYs5SKP"
      },
      "outputs": [],
      "source": [
        " # you need to cast input value it to proper type in case it's not string\n",
        "IsStudent = bool(input(\"enter is student True/False\"))\n",
        "type(IsStudent)"
      ]
    },
    {
      "cell_type": "markdown",
      "metadata": {},
      "source": [
        "**3-Strip Extra Spaces from Input**\n",
        "\n",
        "Use `.strip()` to remove extra spaces before and after the input."
      ]
    },
    {
      "cell_type": "code",
      "execution_count": null,
      "metadata": {},
      "outputs": [],
      "source": [
        "name = input(\"Enter your name: \").strip()\n",
        "print(\"Welcome,\", name)"
      ]
    },
    {
      "cell_type": "markdown",
      "metadata": {
        "id": "P0i7xC9t9o3a"
      },
      "source": [
        "### **Sequence Types in Python: Lists and Dictionaries**\n",
        "\n",
        "In Python, a **sequence** is an ordered collection of items. The most common sequence types are:\n",
        "\n",
        "- **Lists** (`list`)\n",
        "- **Tuples** (`tuple`)\n",
        "- **Strings** (`str`)\n",
        "\n",
        "Dictionaries (`dict`) are **not** sequences but are often used for storing collections of data.\n",
        "\n",
        "---\n",
        "\n",
        "**1. Lists**\n",
        "A **list** is an ordered, mutable (changeable) collection of elements. Lists can contain different data types.\n",
        "\n",
        "**Creating a List**\n",
        "```python\n",
        "fruits = [\"apple\", \"banana\", \"cherry\"]\n",
        "numbers = [1, 2, 3, 4, 5]\n",
        "mixed = [10, \"hello\", 3.14, True]\n"
      ]
    },
    {
      "cell_type": "code",
      "execution_count": null,
      "metadata": {
        "id": "OS6Ay2hJ9qmg"
      },
      "outputs": [],
      "source": [
        "Mylist = [\"Red\",\"Blue\",\"Green\",\"Pink\"] # list index also start with 0\n",
        "print(Mylist)"
      ]
    },
    {
      "cell_type": "markdown",
      "metadata": {},
      "source": [
        "**Accessing Elements**\n",
        "\n",
        "Indexing: Lists are zero-indexed, meaning the first element is at index 0."
      ]
    },
    {
      "cell_type": "code",
      "execution_count": null,
      "metadata": {
        "id": "TdVCpzui99uS"
      },
      "outputs": [],
      "source": [
        "# to get the value of an item use its index\n",
        "print(Mylist[1]) # will output the second item in list item at index 1 \"Blue\""
      ]
    },
    {
      "cell_type": "markdown",
      "metadata": {},
      "source": [
        "**Slicing: Get a sublist.**"
      ]
    },
    {
      "cell_type": "code",
      "execution_count": null,
      "metadata": {
        "id": "AlY5Sdom-QZO"
      },
      "outputs": [],
      "source": [
        "# we can get slice from list\n",
        "print(Mylist[2:3])"
      ]
    },
    {
      "cell_type": "code",
      "execution_count": null,
      "metadata": {
        "id": "nsz8J57l-YPQ"
      },
      "outputs": [],
      "source": [
        "# we can get slice from list - negative slicing\n",
        "print(Mylist[-4:-1])"
      ]
    },
    {
      "cell_type": "code",
      "execution_count": null,
      "metadata": {
        "id": "XQfzc0je-tn7"
      },
      "outputs": [],
      "source": [
        "# to get the length of list\n",
        "print(len(Mylist))"
      ]
    },
    {
      "cell_type": "markdown",
      "metadata": {},
      "source": [
        "**Modifying Lists**\n",
        "\n",
        "*Update an existing element*"
      ]
    },
    {
      "cell_type": "code",
      "execution_count": null,
      "metadata": {
        "id": "6Z5cmYZg-9CX"
      },
      "outputs": [],
      "source": [
        "# to update or change item values in list, you need ot specify the index of item you want to change and use assignment operator\n",
        "print(Mylist)\n",
        "Mylist[0]=\"Black\"\n",
        "print(Mylist)"
      ]
    },
    {
      "cell_type": "markdown",
      "metadata": {},
      "source": [
        "*Add new element to end of list or to specific index*"
      ]
    },
    {
      "cell_type": "code",
      "execution_count": null,
      "metadata": {
        "id": "l_SerjwZ_Skv"
      },
      "outputs": [],
      "source": [
        "print(Mylist)\n",
        "# to add new item to list\n",
        "# at end of list\n",
        "Mylist.append(\"Yellow\")\n",
        "print(Mylist)\n",
        "# at specific location\n",
        "Mylist.insert(1,\"purple\")\n",
        "print(Mylist)"
      ]
    },
    {
      "cell_type": "markdown",
      "metadata": {},
      "source": [
        "*Delete element at end of list or specific index* "
      ]
    },
    {
      "cell_type": "code",
      "execution_count": null,
      "metadata": {
        "id": "IITw0P_0_yNC"
      },
      "outputs": [],
      "source": [
        "print(Mylist)\n",
        "# to delete an item from list\n",
        "# at end of list\n",
        "Mylist.pop()\n",
        "print(Mylist)\n",
        "# delete based on specific index\n",
        "Mylist.pop(3)\n",
        "print(Mylist)\n",
        "# delete item based on its vlaue\n",
        "Mylist.remove(\"purple\")\n",
        "print(Mylist)"
      ]
    },
    {
      "cell_type": "markdown",
      "metadata": {},
      "source": [
        "*Copy a list*"
      ]
    },
    {
      "cell_type": "code",
      "execution_count": null,
      "metadata": {
        "id": "CHIlLsIFA6CD"
      },
      "outputs": [],
      "source": [
        "list1= [1,3,5,7]\n",
        "list2=list1.copy()\n",
        "print(list2)"
      ]
    },
    {
      "cell_type": "markdown",
      "metadata": {},
      "source": [
        "*join lists*"
      ]
    },
    {
      "cell_type": "code",
      "execution_count": null,
      "metadata": {
        "id": "UZ9Lwg1EBP7C"
      },
      "outputs": [],
      "source": [
        "# to join 2 lists\n",
        "odd =[1,3,5,7]\n",
        "even=[2,4,6,8]\n",
        "numbers= odd + even\n",
        "print(numbers)"
      ]
    },
    {
      "cell_type": "markdown",
      "metadata": {},
      "source": [
        "*Operations on Lists*"
      ]
    },
    {
      "cell_type": "code",
      "execution_count": null,
      "metadata": {
        "id": "zPPe7UU7Bkbh"
      },
      "outputs": [],
      "source": [
        "print(sorted(numbers))"
      ]
    },
    {
      "cell_type": "code",
      "execution_count": null,
      "metadata": {
        "id": "5mdn8oM1Bp_4"
      },
      "outputs": [],
      "source": [
        "print(min(numbers))"
      ]
    },
    {
      "cell_type": "code",
      "execution_count": null,
      "metadata": {
        "id": "8nKfmnaLBtz2"
      },
      "outputs": [],
      "source": [
        "print(max(numbers))"
      ]
    },
    {
      "cell_type": "code",
      "execution_count": null,
      "metadata": {
        "id": "7vURKh5wBx_v"
      },
      "outputs": [],
      "source": [
        "print(sum(numbers))"
      ]
    },
    {
      "cell_type": "markdown",
      "metadata": {},
      "source": [
        "**2. Dictionaries (dict)**\n",
        "A dictionary is a collection of key-value pairs. Unlike lists, \n",
        "dictionaries are unordered and mutable.\n",
        "\n",
        "**Creating a Dictionary**"
      ]
    },
    {
      "cell_type": "code",
      "execution_count": null,
      "metadata": {},
      "outputs": [],
      "source": [
        "person = {\n",
        "    \"name\": \"Alice\",\n",
        "    \"age\": 25,\n",
        "    \"city\": \"New York\"\n",
        "}\n"
      ]
    },
    {
      "cell_type": "markdown",
      "metadata": {},
      "source": [
        "**Accessing Values**"
      ]
    },
    {
      "cell_type": "code",
      "execution_count": null,
      "metadata": {},
      "outputs": [],
      "source": [
        "print(person[\"name\"])  # Output: Alice\n",
        "print(person.get(\"age\"))  # Output: 25"
      ]
    },
    {
      "cell_type": "markdown",
      "metadata": {},
      "source": [
        "**Modifying Dictionaries**\n",
        "\n",
        "*Adding and Updating Values*"
      ]
    },
    {
      "cell_type": "code",
      "execution_count": null,
      "metadata": {},
      "outputs": [],
      "source": [
        "person[\"email\"] = \"alice@example.com\"  # Add new key-value pair\n",
        "person[\"age\"] = 26  # Update value"
      ]
    },
    {
      "cell_type": "markdown",
      "metadata": {},
      "source": [
        "*Removing Items*"
      ]
    },
    {
      "cell_type": "code",
      "execution_count": null,
      "metadata": {},
      "outputs": [],
      "source": [
        "del person[\"city\"]  # Removes key-value pair\n",
        "age = person.pop(\"age\")  # Removes and returns value"
      ]
    },
    {
      "cell_type": "markdown",
      "metadata": {},
      "source": [
        "**Using dictionary in a list**"
      ]
    },
    {
      "cell_type": "code",
      "execution_count": null,
      "metadata": {},
      "outputs": [],
      "source": [
        "people = [\n",
        "    {\"name\": \"Alice\", \"age\": 25},\n",
        "    {\"name\": \"Bob\", \"age\": 30}\n",
        "]\n",
        "\n",
        "print(people[0][\"name\"])  # Output: Alice\n"
      ]
    },
    {
      "cell_type": "markdown",
      "metadata": {
        "id": "CQHqJ9V1CFXC"
      },
      "source": [
        "### **Conditional Statements in Python (`if` Statements)**\n",
        "\n",
        "Conditional statements allow a program to make **decisions** based on conditions.\n",
        "\n",
        "In Python, **indentation** is used to define code blocks instead of `{}` (as in other languages like C, Java).\n",
        "\n",
        "Indentation is Required\n",
        "Python uses **whitespace (spaces or tabs)** to define blocks of code.  \n",
        "\n",
        "Missing or incorrect indentation will cause an `IndentationError`.\n",
        "\n",
        "*Correct Example:*\n",
        "```python\n",
        "if True:\n",
        "    print(\"This is inside the if block.\")  # Indented correctly\n",
        "print(\"This is outside the if block.\")  # Not indented (not part of the if block)\n",
        "```\n",
        "\n",
        "*`if` Statement*\n",
        "\n",
        "Executes a block of code **only if** the condition is `True`.\n",
        "\n",
        "```python\n",
        "age = 18\n",
        "\n",
        "if age >= 18:\n",
        "    print(\"You are allowed to vote.\")\n"
      ]
    },
    {
      "cell_type": "markdown",
      "metadata": {},
      "source": [
        "*simple if Statment*"
      ]
    },
    {
      "cell_type": "code",
      "execution_count": null,
      "metadata": {
        "id": "cnGgJFAMDy5f"
      },
      "outputs": [],
      "source": [
        "x=int(input(\"enter x : \"))\n",
        "if x>5:\n",
        "  print(\"x greater than 5\")"
      ]
    },
    {
      "cell_type": "markdown",
      "metadata": {},
      "source": [
        "*if-else Statement*\n",
        "\n",
        "Executes one block if the condition is True, and another if it is False."
      ]
    },
    {
      "cell_type": "code",
      "execution_count": null,
      "metadata": {
        "id": "jREV87wGD7Ku"
      },
      "outputs": [],
      "source": [
        "age = 16\n",
        "\n",
        "if age >= 18:\n",
        "    print(\"You are allowed to vote.\")\n",
        "else:\n",
        "    print(\"You are not old enough to vote.\")"
      ]
    },
    {
      "cell_type": "markdown",
      "metadata": {},
      "source": [
        "*if-elif-else Statement*\n",
        "\n",
        "Checks multiple conditions in order.\n",
        "\n",
        "Only one condition executes (the first True one).\n",
        "\n",
        "If none are True, the else block runs."
      ]
    },
    {
      "cell_type": "code",
      "execution_count": null,
      "metadata": {
        "id": "eNou-q-vDiZ5"
      },
      "outputs": [],
      "source": [
        "score = 75\n",
        "\n",
        "if score >= 90:\n",
        "    print(\"Grade: A\")\n",
        "elif score >= 80:\n",
        "    print(\"Grade: B\")\n",
        "elif score >= 70:\n",
        "    print(\"Grade: C\")\n",
        "else:\n",
        "    print(\"Grade: F\")\n"
      ]
    },
    {
      "cell_type": "markdown",
      "metadata": {},
      "source": [
        "### **For Loops**\n",
        "A `for` loop is used to iterate over a sequence (such as a list, tuple, dictionary, string, or range). It executes a block of code for each item in the sequence.\n",
        "\n",
        "*Why Use For Loops?*\n",
        "\n",
        "1-Automates repetitive tasks\n",
        "\n",
        "2-Iterates through data structures (lists, tuples, dictionaries, etc.)\n",
        "\n",
        "4-Reduces the need for manually writing repetitive code"
      ]
    },
    {
      "cell_type": "markdown",
      "metadata": {},
      "source": [
        "*Looping Through a List*"
      ]
    },
    {
      "cell_type": "code",
      "execution_count": null,
      "metadata": {},
      "outputs": [],
      "source": [
        "fruits = [\"apple\", \"banana\", \"cherry\"]\n",
        "\n",
        "for fruit in fruits:\n",
        "    print(fruit)"
      ]
    },
    {
      "cell_type": "markdown",
      "metadata": {},
      "source": [
        "*Looping Through a String*"
      ]
    },
    {
      "cell_type": "code",
      "execution_count": null,
      "metadata": {},
      "outputs": [],
      "source": [
        "word = \"Python\"\n",
        "\n",
        "for letter in word:\n",
        "    print(letter)\n"
      ]
    },
    {
      "cell_type": "markdown",
      "metadata": {},
      "source": [
        "*Using range() in a For Loop*"
      ]
    },
    {
      "cell_type": "code",
      "execution_count": null,
      "metadata": {},
      "outputs": [],
      "source": [
        "for i in range(1, 6):\n",
        "    print(i)\n"
      ]
    },
    {
      "cell_type": "markdown",
      "metadata": {},
      "source": [
        "*Looping Through a Dictionary*"
      ]
    },
    {
      "cell_type": "code",
      "execution_count": null,
      "metadata": {},
      "outputs": [],
      "source": [
        "people = {\"Alice\": 25, \"Bob\": 30, \"Charlie\": 22}\n",
        "\n",
        "for name, age in people.items():\n",
        "    print(name, \"is\", age, \"years old.\")\n"
      ]
    },
    {
      "cell_type": "markdown",
      "metadata": {},
      "source": [
        "### **Functions in Python**\n",
        "A function is a reusable block of code that performs a specific task. Functions help avoid repetition, make code modular, and improve readability.\n",
        "\n",
        "*Why Use Functions?*\n",
        "\n",
        "1- Reusability – Define once, use multiple times\n",
        "\n",
        "2- Organization – Code is structured and readable\n",
        "\n",
        "3- Flexibility – Can take inputs and return outputs\n",
        "\n",
        "*Function Syntax*\n",
        "```python\n",
        "def function_name(parameters):\n",
        "    # Code block\n",
        "    return value  # (optional)\n",
        "```"
      ]
    },
    {
      "cell_type": "markdown",
      "metadata": {},
      "source": [
        "*Creating a Simple Function*"
      ]
    },
    {
      "cell_type": "code",
      "execution_count": null,
      "metadata": {},
      "outputs": [],
      "source": [
        "def greet():\n",
        "    print(\"Hello, World!\")\n",
        "\n",
        "greet()  # Call the function"
      ]
    },
    {
      "cell_type": "markdown",
      "metadata": {},
      "source": [
        "*Function with Parameters*"
      ]
    },
    {
      "cell_type": "code",
      "execution_count": null,
      "metadata": {},
      "outputs": [],
      "source": [
        "def greet_user(name):\n",
        "    print(\"Hello,\", name + \"!\")\n",
        "\n",
        "greet_user(\"Alice\")"
      ]
    },
    {
      "cell_type": "markdown",
      "metadata": {},
      "source": [
        "*Function with Return Value*"
      ]
    },
    {
      "cell_type": "code",
      "execution_count": null,
      "metadata": {},
      "outputs": [],
      "source": [
        "def square(num):\n",
        "    return num * num\n",
        "\n",
        "result = square(4)\n",
        "print(result)  # Output: 16\n"
      ]
    },
    {
      "cell_type": "markdown",
      "metadata": {},
      "source": [
        "*Lambda Functions (Anonymous Functions)*"
      ]
    },
    {
      "cell_type": "code",
      "execution_count": null,
      "metadata": {},
      "outputs": [],
      "source": [
        "double = lambda x: x * 2\n",
        "\n",
        "print(double(5))  # Output: 10"
      ]
    }
  ],
  "metadata": {
    "colab": {
      "private_outputs": true,
      "provenance": []
    },
    "kernelspec": {
      "display_name": "Training_Python_Project-f-GFt936",
      "language": "python",
      "name": "python3"
    },
    "language_info": {
      "codemirror_mode": {
        "name": "ipython",
        "version": 3
      },
      "file_extension": ".py",
      "mimetype": "text/x-python",
      "name": "python",
      "nbconvert_exporter": "python",
      "pygments_lexer": "ipython3",
      "version": "3.10.7"
    }
  },
  "nbformat": 4,
  "nbformat_minor": 0
}
