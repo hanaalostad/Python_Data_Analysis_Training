{
 "cells": [
  {
   "cell_type": "markdown",
   "metadata": {},
   "source": [
    "## Pandas Data Manipulation\n",
    "Install pandas if needed\n",
    "pip install pandas "
   ]
  },
  {
   "cell_type": "code",
   "execution_count": null,
   "metadata": {},
   "outputs": [],
   "source": [
    "import pandas as pd"
   ]
  },
  {
   "cell_type": "code",
   "execution_count": null,
   "metadata": {},
   "outputs": [],
   "source": [
    "# Load the dataset\n",
    "sales = pd.read_csv(\"sales_data.csv\")\n",
    "# fix missing data based on formula \n",
    "total = sales[\"Quantity\"] * sales[\"Price\"]\n",
    "sales[\"Total\"]=sales[\"Total\"].fillna(total)\n",
    "# Fill missing Price based on formula \n",
    "Calc_price = sales[\"Total\"]/sales[\"Quantity\"]\n",
    "sales[\"Price\"]=sales[\"Price\"].fillna(Calc_price)\n",
    "# Drop rows where \"Customer\" is missing\n",
    "sales.dropna(subset=[\"Customer\"], inplace=True)\n",
    "# fill date bsed on pattern\n",
    "sales[\"Date\"] = pd.to_datetime(sales[\"Date\"])\n",
    "sales[\"Date\"] = sales[\"Date\"].interpolate()\n",
    "print(sales)"
   ]
  },
  {
   "cell_type": "markdown",
   "metadata": {},
   "source": [
    "### Filtering \n",
    "\n",
    "**Filter Data (Find Sales Above $500)**"
   ]
  },
  {
   "cell_type": "code",
   "execution_count": null,
   "metadata": {},
   "outputs": [],
   "source": [
    "# Find orders where Total > 500\n",
    "\n",
    "above_500 = \n",
    "print(above_500)\n",
    "sales_above_500 = \n",
    "print(sales_above_500)"
   ]
  },
  {
   "cell_type": "markdown",
   "metadata": {},
   "source": [
    "### Activity \n",
    "\n",
    "Show details for all orders for Laptop\n"
   ]
  },
  {
   "cell_type": "code",
   "execution_count": null,
   "metadata": {},
   "outputs": [],
   "source": []
  },
  {
   "cell_type": "markdown",
   "metadata": {},
   "source": [
    "### **Merge DataFrames**"
   ]
  },
  {
   "cell_type": "code",
   "execution_count": null,
   "metadata": {},
   "outputs": [],
   "source": [
    "# Create another DataFrame with customer details\n",
    "customer_info = pd.DataFrame({\n",
    "    \"Customer\": [\"John Doe\", \"Alice Smith\", \"Bob Johnson\", \"Charlie Lee\", \"Eve Davis\"],\n",
    "    \"Loyalty Points\": [100, 200, 150, 250, 300]\n",
    "})\n",
    "print(customer_info)"
   ]
  },
  {
   "cell_type": "code",
   "execution_count": null,
   "metadata": {},
   "outputs": [],
   "source": [
    "# Merge datasets on \"Customer\" column, use how=\"left\" to apply left join\n",
    "merge_df = \n",
    "merge_df"
   ]
  },
  {
   "cell_type": "markdown",
   "metadata": {},
   "source": [
    "### Reshaping Data\n",
    "**Reshape Data (Pivot Table of Total Sales Per Product)**"
   ]
  },
  {
   "cell_type": "code",
   "execution_count": null,
   "metadata": {},
   "outputs": [],
   "source": [
    "# use .pivot_table and apply aggfunc=\"sum\" on values of \"Total\" column \n",
    "\n",
    "pivot_table = \n",
    "print(pivot_table)"
   ]
  },
  {
   "cell_type": "markdown",
   "metadata": {},
   "source": [
    "**Converting categories into numbers.**\n",
    "\n",
    "Using .astype(\"category\").cat.codes"
   ]
  },
  {
   "cell_type": "code",
   "execution_count": null,
   "metadata": {},
   "outputs": [],
   "source": [
    "\n",
    "Cities = pd.DataFrame({\n",
    "    \"City\": [\"New York\", \"Chicago\", \"Los Angeles\", \"New York\", \"Chicago\"]\n",
    "})\n",
    "\n",
    "# Convert City to numerical codes\n",
    "Cities[\"City_Code\"] = \n",
    "\n",
    "print(Cities)"
   ]
  },
  {
   "cell_type": "markdown",
   "metadata": {},
   "source": [
    "**Using pd.get_dummies() (One-Hot Encoding)**"
   ]
  },
  {
   "cell_type": "code",
   "execution_count": null,
   "metadata": {},
   "outputs": [],
   "source": [
    "# apply One-Hot Encoding on Product column (use dtype=int to return numbers) \n",
    "\n",
    "df_encoded = \n",
    "print(df_encoded)"
   ]
  },
  {
   "cell_type": "markdown",
   "metadata": {},
   "source": [
    "**Using pd.factorize()**\n",
    "Converting categorical labels into numbers while keeping original mapping."
   ]
  },
  {
   "cell_type": "code",
   "execution_count": null,
   "metadata": {},
   "outputs": [],
   "source": [
    "# convert \"City\" values into numbers \n",
    "print(sales)\n",
    "sales[\"City_Code\"], labels = \n",
    "print(sales)\n",
    "print(\"labels:\", labels)"
   ]
  },
  {
   "cell_type": "markdown",
   "metadata": {},
   "source": [
    "### Activity\n",
    "\n",
    " 1- Convert Department Names into Numbers in Employees dataframe using .astype(\"category\").cat.codes.\n",
    "\n",
    " 2- Apply One-Hot Encoding to the \"City\" column using pd.get_dummies()."
   ]
  },
  {
   "cell_type": "code",
   "execution_count": null,
   "metadata": {},
   "outputs": [],
   "source": [
    "print(Employees)\n",
    "\n"
   ]
  },
  {
   "cell_type": "markdown",
   "metadata": {},
   "source": [
    "### Statistical Analysis \n",
    "\n",
    "**Calculate Mean, Median, Standard Deviation, and Using Count_values**"
   ]
  },
  {
   "cell_type": "code",
   "execution_count": null,
   "metadata": {},
   "outputs": [],
   "source": [
    "# Compute statistics\n",
    "mean_price = \n",
    "median_price = \n",
    "std_price = \n",
    "\n",
    "print(f\"Mean Price: {mean_price :.3f}\")\n",
    "print(f\"Median Price: {median_price :.3f}\")\n",
    "print(f\"Standard Deviation of Price: {std_price :.3f}\")"
   ]
  },
  {
   "cell_type": "markdown",
   "metadata": {},
   "source": [
    "**Use .value_counts() to count unique values for \"Product\" column**"
   ]
  },
  {
   "cell_type": "code",
   "execution_count": null,
   "metadata": {},
   "outputs": [],
   "source": []
  },
  {
   "attachments": {
    "image-2.png": {
     "image/png": "[encoded data removed]"
    }
   },
   "cell_type": "markdown",
   "metadata": {},
   "source": [
    "### Data Normalization\n",
    "\n",
    "To scale data between 0 and 1 or -1 to 1, making it easier to compare different features.\n",
    "\n",
    "\n",
    "**Min-Max Normalization (Scaling Between 0 and 1)**\n",
    "\n",
    "Formula:\n",
    "![image-2.png](attachment:image-2.png)"
   ]
  },
  {
   "cell_type": "code",
   "execution_count": null,
   "metadata": {},
   "outputs": [],
   "source": [
    "Employees = pd.read_csv(\"Employees.csv\")\n",
    "print(Employees, \"/n\")\n",
    "# Normalize Salary column based on Min-Max Normalization\n",
    "Employees[\"Salary_Normalized\"] = \n",
    "\n",
    "print(Employees)"
   ]
  },
  {
   "attachments": {
    "image-2.png": {
     "image/png": "[encoded data removed]"
    },
    "image.png": {
     "image/png": "[encoded data removed]"
    }
   },
   "cell_type": "markdown",
   "metadata": {},
   "source": [
    "**Z-Score Normalization (Standardization)**\n",
    "\n",
    "Formula:\n",
    "![image.png](attachment:image.png)\n",
    "\n",
    "![image-2.png](attachment:image-2.png)"
   ]
  },
  {
   "cell_type": "code",
   "execution_count": null,
   "metadata": {},
   "outputs": [],
   "source": [
    "# Z-Score Normalization\n",
    "Employees[\"Salary_Zscore\"] = \n",
    "\n",
    "print(Employees)\n"
   ]
  },
  {
   "cell_type": "markdown",
   "metadata": {},
   "source": [
    "### Activity \n",
    "\n",
    "1- Normalize Age in Employees dataframe by applying Min-Max normalization on the \"Age\" column.\n",
    "\n",
    "2- Apply Z-score normalization to the \"Age\" column."
   ]
  },
  {
   "cell_type": "code",
   "execution_count": null,
   "metadata": {},
   "outputs": [],
   "source": [
    "print(Employees)\n"
   ]
  },
  {
   "cell_type": "markdown",
   "metadata": {},
   "source": [
    "### Grouping"
   ]
  },
  {
   "cell_type": "markdown",
   "metadata": {},
   "source": [
    "**Pandas' groupby() allows you to group data and apply aggregations like sum(), mean(), count(), etc.**"
   ]
  },
  {
   "cell_type": "code",
   "execution_count": null,
   "metadata": {},
   "outputs": [],
   "source": [
    "# Group by Product and sum Total Sales\n",
    "sales_per_product = \n",
    "\n",
    "print(sales_per_product)\n",
    "\n",
    "# count unique products sales quantities\n",
    "\n",
    "unique_product_sales = \n",
    "\n",
    "print(unique_product_sales)"
   ]
  },
  {
   "cell_type": "markdown",
   "metadata": {},
   "source": [
    "**Grouping & Applying Custom Functions**\n",
    "\n",
    "Categorize products sales as High (≥2000) or Mid (<=1000 and >=800) or low (<800).\n"
   ]
  },
  {
   "cell_type": "code",
   "execution_count": null,
   "metadata": {},
   "outputs": [],
   "source": [
    "# Define a function to classify sales\n",
    "def sales_category(Total):\n",
    "    if Total >= 2000:\n",
    "        category = \"High\"\n",
    "    elif Total<=1000 and Total>=800:\n",
    "        category = \"Mid\" \n",
    "    else:\n",
    "        category =  \"Low\"\n",
    "    return category \n",
    "\n",
    "# Apply function to grouped product total sales\n",
    "sales_category_df = \n",
    "\n",
    "print(sales_category_df)\n"
   ]
  },
  {
   "cell_type": "markdown",
   "metadata": {},
   "source": [
    "### Activity \n",
    "\n",
    "**Find:**\n",
    "\n",
    "1- The average Loyalty Points of Customer.\n",
    "\n",
    "2- The maximum Loyalty Points of Customer. \n",
    "\n",
    "3- The minimum Loyalty Points of Customer.\n",
    "\n",
    "4- Categorize customer based on Loyalty Points, customer is considered loyal (Loyalty Points>=300) or not loyal (Loyalty Points<300)\n"
   ]
  },
  {
   "cell_type": "markdown",
   "metadata": {},
   "source": [
    "### Drop duplicates\n",
    "\n",
    "use .drop_duplicates() to remove duplicate rows from a DataFrame."
   ]
  },
  {
   "cell_type": "code",
   "execution_count": null,
   "metadata": {},
   "outputs": [],
   "source": [
    "import pandas as pd\n",
    "\n",
    "# Sample DataFrame with duplicates\n",
    "df = pd.DataFrame({\n",
    "    \"EmployeeID\": [101, 102, 103, 104, 101, 102],\n",
    "    \"Name\": [\"Alice\", \"Bob\", \"Charlie\", \"David\", \"Alice\", \"Bob\"],\n",
    "    \"Department\": [\"HR\", \"IT\", \"Finance\", \"Marketing\", \"HR\", \"IT\"],\n",
    "    \"Salary\": [50000, 60000, 70000, 80000, 50000, 60000]\n",
    "})\n",
    "print(df, \"\\n\")\n",
    "# Remove exact duplicates from all rows\n",
    "df_cleaned = \n",
    "\n",
    "print(df_cleaned)\n"
   ]
  },
  {
   "cell_type": "markdown",
   "metadata": {},
   "source": [
    "Remove Duplicates Based on a Specific Column\n",
    "\n",
    "Use subset=[\"Col_Name\"] in drop_duplicates to select specfic column\n",
    "\n"
   ]
  },
  {
   "cell_type": "code",
   "execution_count": null,
   "metadata": {},
   "outputs": [],
   "source": [
    "\n",
    "print(df, \"\\n\")\n",
    "# Use keep=\"first\" in drop_duplicates to keep the first occurrence of \"EmployeeID\" \n",
    "# and remove later ones.\n",
    "\n",
    "df_cleaned = \n",
    "print(df_cleaned)"
   ]
  }
 ],
 "metadata": {
  "kernelspec": {
   "display_name": "Python 3",
   "language": "python",
   "name": "python3"
  },
  "language_info": {
   "codemirror_mode": {
    "name": "ipython",
    "version": 3
   },
   "file_extension": ".py",
   "mimetype": "text/x-python",
   "name": "python",
   "nbconvert_exporter": "python",
   "pygments_lexer": "ipython3",
   "version": "3.10.7"
  }
 },
 "nbformat": 4,
 "nbformat_minor": 2
}
